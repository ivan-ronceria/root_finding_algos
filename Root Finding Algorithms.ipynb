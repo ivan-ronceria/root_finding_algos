{
 "cells": [
  {
   "cell_type": "markdown",
   "id": "d126c7e4",
   "metadata": {},
   "source": [
    "# Root Finding Algorithms: Bisection Method, Fixed Point Method, and the Newton-Raphson Method"
   ]
  },
  {
   "cell_type": "markdown",
   "id": "2a585135",
   "metadata": {},
   "source": [
    "In this notebook, we explore 3 numerical methods to find real roots for analytical functions: the bisection, fixed point, and Newton-Raphson methods.We will start with the bisection method.\n",
    "\n",
    "### Bisection Method"
   ]
  },
  {
   "cell_type": "code",
   "execution_count": null,
   "id": "bdc21912",
   "metadata": {},
   "outputs": [],
   "source": [
    "tolerance = 0.000001\n",
    "iterations = 50\n",
    "\n",
    "def f(x):\n",
    "    return x**3 - x**2 + 2\n",
    "\n",
    "def bisection(a, b):\n",
    "    i = 0\n",
    "    a_n = a\n",
    "    b_n = b\n",
    "    if (a > b):\n",
    "        print(\"Failure: Please adjust interval a and b such that a < b\")\n",
    "        return\n",
    "    while ((b_n - a_n) >= tolerance):\n",
    "        midpoint = (a_n + b_n) / 2\n",
    "        f_i = f(midpoint)\n",
    "        print(\"Estimate \" + str(i) + \" is:\" + str(midpoint))\n",
    "        if (i <= iterations):\n",
    "            if((f_i * f(a_n)) < 0):\n",
    "                b_n = midpoint\n",
    "            elif(f(b_n) * f_i < 0):\n",
    "                a_n = midpoint\n",
    "        else:\n",
    "            print(\"The method failed to converge within \" + str(iterations))\n",
    "            return\n",
    "        \n",
    "        i += 1\n",
    "    \n",
    "    return\n",
    "\n",
    "bisection(-200, 300)                    "
   ]
  },
  {
   "cell_type": "markdown",
   "id": "45eed436",
   "metadata": {},
   "source": [
    "### Fixed Point Method"
   ]
  },
  {
   "cell_type": "code",
   "execution_count": null,
   "id": "edc12292",
   "metadata": {},
   "outputs": [],
   "source": [
    "import math as mt\n",
    "\n",
    "tolerance = 0.0001\n",
    "iterations = 50\n",
    "initial_guess = 12\n",
    "i = 0\n",
    "\n",
    "#If we use the same function we defined above, then we must solve for x such that x = g(x)\n",
    "def g(x):\n",
    "    return (-2 + x**2)/(x**2)\n",
    "\n",
    "while(i <= iterations):\n",
    "    y_i = g(initial_guess)\n",
    "    \n",
    "    if(mt.isnan(y_i) or mt.isinf(y_i)):\n",
    "        print(\"Result diverges\")\n",
    "        break\n",
    "        \n",
    "    if(i >= iterations):\n",
    "        print(\"The method failed to converge to a solution after \" + str(i) + \" iterations.\")\n",
    "        break\n",
    "    \n",
    "    if(abs(y_i - initial_guess) < tolerance):\n",
    "        print(\"The procedure was successful\")\n",
    "        print(\"The value of the root is: \" + str(initial_guess))\n",
    "        break\n",
    "    \n",
    "    i += 1\n",
    "    initial_guess = y_i\n",
    "    print(\"Estimate \" + str(i) + \" is:\" + str(initial_guess))\n",
    "    "
   ]
  },
  {
   "cell_type": "markdown",
   "id": "f6215833",
   "metadata": {},
   "source": [
    "### Newton-Raphson Method"
   ]
  },
  {
   "cell_type": "code",
   "execution_count": null,
   "id": "b87ca70e",
   "metadata": {},
   "outputs": [],
   "source": [
    "tolerance = 0.00001\n",
    "iterations = 50\n",
    "x_0 = 300\n",
    "i = 0\n",
    "\n",
    "def h(x):\n",
    "    return x**3 - x**2 + 2\n",
    "\n",
    "#First derivative of the h(x)\n",
    "def h_prime(x):\n",
    "    return x*(3*x - 2)\n",
    "\n",
    "while(i < iterations):\n",
    "    root_estimate_i = h(x_0) / h_prime(x_0)\n",
    "    update = x_0 - root_estimate_i\n",
    "    x_0 = update\n",
    "    i += 1\n",
    "    \n",
    "    print(\"Estimate \" + str(i) + \" is:\" + str(x_0))\n",
    "    \n",
    "    if(abs(root_estimate_i) < tolerance):\n",
    "        print(\"The procedure was successful\\n\" + \"The value of the root is: \" + str(x_0))\n",
    "        break\n",
    "    if(i >= iterations):\n",
    "        print(\"The method failed after \" + str(i) + \" iterations\")\n",
    "        break"
   ]
  },
  {
   "cell_type": "code",
   "execution_count": null,
   "id": "9fb18b0c",
   "metadata": {},
   "outputs": [],
   "source": []
  }
 ],
 "metadata": {
  "kernelspec": {
   "display_name": "Python 3 (ipykernel)",
   "language": "python",
   "name": "python3"
  },
  "language_info": {
   "codemirror_mode": {
    "name": "ipython",
    "version": 3
   },
   "file_extension": ".py",
   "mimetype": "text/x-python",
   "name": "python",
   "nbconvert_exporter": "python",
   "pygments_lexer": "ipython3",
   "version": "3.9.7"
  }
 },
 "nbformat": 4,
 "nbformat_minor": 5
}
